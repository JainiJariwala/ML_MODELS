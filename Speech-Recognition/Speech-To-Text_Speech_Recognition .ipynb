{
 "cells": [
  {
   "cell_type": "code",
   "execution_count": 4,
   "id": "d4acdf13",
   "metadata": {},
   "outputs": [
    {
     "name": "stdout",
     "output_type": "stream",
     "text": [
      "Requirement already satisfied: speechrecognition in c:\\users\\hp\\anaconda3\\lib\\site-packages (3.8.1)\n"
     ]
    }
   ],
   "source": [
    "#install the module\n",
    "!pip install speechrecognition\n",
    "!conda install pyaudio"
   ]
  },
  {
   "cell_type": "code",
   "execution_count": 1,
   "id": "68fb3f4f",
   "metadata": {},
   "outputs": [],
   "source": [
    "# import the module\n",
    "import speech_recognition as sr"
   ]
  },
  {
   "cell_type": "code",
   "execution_count": 2,
   "id": "ec3da69b",
   "metadata": {},
   "outputs": [],
   "source": [
    "#initialize\n",
    "r = sr.Recognizer()"
   ]
  },
  {
   "cell_type": "markdown",
   "id": "758eabf1",
   "metadata": {},
   "source": [
    "# Convert speech to text in real time"
   ]
  },
  {
   "cell_type": "code",
   "execution_count": 3,
   "id": "43183717",
   "metadata": {},
   "outputs": [
    {
     "name": "stdout",
     "output_type": "stream",
     "text": [
      "Speak Now\n",
      "Speaker :  hello\n",
      "Speak Now\n",
      "Speaker :  how are you\n",
      "Speak Now\n",
      "Speaker :  mummy say something\n",
      "Speak Now\n",
      "Speaker :  ok you are working good\n",
      "Speak Now\n",
      "Speaker :  quit sweet\n",
      "Speak Now\n",
      "Speaker :  sweet\n",
      "Speak Now\n",
      "Speaker :  quit\n"
     ]
    }
   ],
   "source": [
    "while True:\n",
    "    with sr.Microphone() as source:\n",
    "        #Removing background noise\n",
    "        r.adjust_for_ambient_noise(source,duration = 0.3)\n",
    "        \n",
    "        print(\"Speak Now\")\n",
    "        \n",
    "        #capturing the audio\n",
    "        audio = r.listen(source)\n",
    "        \n",
    "        try:\n",
    "            #converting audio by google API\n",
    "            text = r.recognize_google(audio)\n",
    "            print(\"Speaker : \",text)\n",
    "            if text == 'quit' :\n",
    "                break\n",
    "        except:\n",
    "            print('Sepak again!!')"
   ]
  },
  {
   "cell_type": "markdown",
   "id": "899d7def",
   "metadata": {},
   "source": [
    "# Convert Audio To Text"
   ]
  },
  {
   "cell_type": "code",
   "execution_count": 6,
   "id": "795d5d5b",
   "metadata": {},
   "outputs": [
    {
     "name": "stdout",
     "output_type": "stream",
     "text": [
      "Audio :  welcome to speech recognition\n"
     ]
    }
   ],
   "source": [
    "with sr.AudioFile('text.wav') as source:\n",
    "    #capture audio\n",
    "    audio = r.listen(source)\n",
    "    \n",
    "    try:\n",
    "        text = r.recognize_google(audio)\n",
    "        print(\"Audio : \",text)\n",
    "    except:\n",
    "        print('Error')"
   ]
  },
  {
   "cell_type": "code",
   "execution_count": null,
   "id": "7688babd",
   "metadata": {},
   "outputs": [],
   "source": []
  }
 ],
 "metadata": {
  "kernelspec": {
   "display_name": "Python 3",
   "language": "python",
   "name": "python3"
  },
  "language_info": {
   "codemirror_mode": {
    "name": "ipython",
    "version": 3
   },
   "file_extension": ".py",
   "mimetype": "text/x-python",
   "name": "python",
   "nbconvert_exporter": "python",
   "pygments_lexer": "ipython3",
   "version": "3.8.8"
  }
 },
 "nbformat": 4,
 "nbformat_minor": 5
}
