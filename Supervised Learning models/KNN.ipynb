{
 "cells": [
  {
   "cell_type": "code",
   "execution_count": 2,
   "id": "18b712ae",
   "metadata": {},
   "outputs": [
    {
     "name": "stdout",
     "output_type": "stream",
     "text": [
      "0.7222222222222222\n",
      "[[13  1  0]\n",
      " [ 0 11  5]\n",
      " [ 1  3  2]]\n",
      "['class_0' 'class_1' 'class_2']\n"
     ]
    }
   ],
   "source": [
    "#KNN for wine dataset\n",
    "from sklearn import datasets\n",
    "from sklearn import metrics\n",
    "from sklearn.model_selection import train_test_split\n",
    "from sklearn.neighbors import KNeighborsClassifier\n",
    "\n",
    "db=datasets.load_wine()\n",
    "X_train, X_test, Y_train, Y_test = train_test_split(db.data,db.target,test_size = 0.2,random_state=0)\n",
    "knn = KNeighborsClassifier(n_neighbors = 10)\n",
    "knn.fit(X_train, Y_train)\n",
    "knn.score(X_test, Y_test)\n",
    "\n",
    "Y_pred=knn.predict(X_test)\n",
    "\n",
    "print(metrics.accuracy_score(Y_test,Y_pred))\n",
    "print(metrics.confusion_matrix(Y_test,Y_pred))\n",
    "print(db.target_names)"
   ]
  },
  {
   "cell_type": "code",
   "execution_count": 3,
   "id": "9b6b89d3",
   "metadata": {},
   "outputs": [
    {
     "name": "stdout",
     "output_type": "stream",
     "text": [
      "0.9473684210526315\n",
      "[[44  3]\n",
      " [ 3 64]]\n",
      "['malignant' 'benign']\n"
     ]
    }
   ],
   "source": [
    "#KNN for breast cancer dataset\n",
    "from sklearn import datasets\n",
    "from sklearn import metrics\n",
    "from sklearn.model_selection import train_test_split\n",
    "from sklearn.neighbors import KNeighborsClassifier\n",
    "\n",
    "db=datasets.load_breast_cancer()\n",
    "X_train, X_test, Y_train, Y_test = train_test_split(db.data,db.target,test_size = 0.2,random_state=0)\n",
    "knn = KNeighborsClassifier(n_neighbors = 10)\n",
    "knn.fit(X_train, Y_train)\n",
    "knn.score(X_test, Y_test)\n",
    "\n",
    "Y_pred=knn.predict(X_test)\n",
    "\n",
    "print(metrics.accuracy_score(Y_test,Y_pred))\n",
    "print(metrics.confusion_matrix(Y_test,Y_pred))\n",
    "print(db.target_names)"
   ]
  },
  {
   "cell_type": "code",
   "execution_count": null,
   "id": "389af088",
   "metadata": {},
   "outputs": [],
   "source": []
  }
 ],
 "metadata": {
  "kernelspec": {
   "display_name": "Python 3",
   "language": "python",
   "name": "python3"
  },
  "language_info": {
   "codemirror_mode": {
    "name": "ipython",
    "version": 3
   },
   "file_extension": ".py",
   "mimetype": "text/x-python",
   "name": "python",
   "nbconvert_exporter": "python",
   "pygments_lexer": "ipython3",
   "version": "3.8.8"
  }
 },
 "nbformat": 4,
 "nbformat_minor": 5
}
