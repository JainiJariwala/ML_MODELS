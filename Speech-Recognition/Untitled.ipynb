{
 "cells": [
  {
   "cell_type": "code",
   "execution_count": null,
   "id": "2ba790eb",
   "metadata": {},
   "outputs": [
    {
     "name": "stdout",
     "output_type": "stream",
     "text": [
      "Collecting speechrecognition\n",
      "  Downloading SpeechRecognition-3.8.1-py2.py3-none-any.whl (32.8 MB)\n",
      "Installing collected packages: speechrecognition\n",
      "Successfully installed speechrecognition-3.8.1\n"
     ]
    }
   ],
   "source": [
    "#install the module\n",
    "!pip install speechrecognition\n",
    "!conda install pyaudio"
   ]
  },
  {
   "cell_type": "code",
   "execution_count": null,
   "id": "c49d678e",
   "metadata": {},
   "outputs": [],
   "source": [
    "#import the module\n",
    "import speech_recognition as sr"
   ]
  },
  {
   "cell_type": "code",
   "execution_count": null,
   "id": "16946927",
   "metadata": {},
   "outputs": [],
   "source": [
    "#initialize\n",
    "r = sr.Recognizer()"
   ]
  },
  {
   "cell_type": "markdown",
   "id": "7e475290",
   "metadata": {},
   "source": [
    "# Convert speech to text in real time"
   ]
  },
  {
   "cell_type": "code",
   "execution_count": null,
   "id": "b6607cd8",
   "metadata": {},
   "outputs": [],
   "source": [
    "while True:\n",
    "    with sr.Microphone() as source:\n",
    "        #Removing background noise\n",
    "        r.adjust_for_ambient_noise(source,duration = 0.3)\n",
    "        \n",
    "        print(\"Speak Now\")\n",
    "        \n",
    "        #capturing the audio\n",
    "        audio = r.listen(source)\n",
    "        \n",
    "        try:\n",
    "            #converting audio by google API\n",
    "            text = r.recognize_google(audio)\n",
    "            print(\"Speaker : \",text)\n",
    "            if text == 'quit'\n",
    "                break\n",
    "        except:\n",
    "            print('Sepak again!!')"
   ]
  },
  {
   "cell_type": "markdown",
   "id": "5abfb5fb",
   "metadata": {},
   "source": [
    "# Convert Audio To Text"
   ]
  },
  {
   "cell_type": "code",
   "execution_count": null,
   "id": "20f186a3",
   "metadata": {},
   "outputs": [],
   "source": [
    "with sr.AudioFile('text.wav') as source:\n",
    "    #capture audio\n",
    "    audio = r.listen(source)\n",
    "    \n",
    "    try:\n",
    "        text = r.recognize_google(audio)\n",
    "        print(\"Audio : \",text)\n",
    "    except:\n",
    "        print('Error')"
   ]
  }
 ],
 "metadata": {
  "kernelspec": {
   "display_name": "Python 3",
   "language": "python",
   "name": "python3"
  },
  "language_info": {
   "codemirror_mode": {
    "name": "ipython",
    "version": 3
   },
   "file_extension": ".py",
   "mimetype": "text/x-python",
   "name": "python",
   "nbconvert_exporter": "python",
   "pygments_lexer": "ipython3",
   "version": "3.8.8"
  }
 },
 "nbformat": 4,
 "nbformat_minor": 5
}
