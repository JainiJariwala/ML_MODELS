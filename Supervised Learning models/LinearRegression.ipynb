{
 "cells": [
  {
   "cell_type": "code",
   "execution_count": 1,
   "id": "b58d49ae",
   "metadata": {},
   "outputs": [
    {
     "data": {
      "text/plain": [
       "0.8998261101639006"
      ]
     },
     "execution_count": 1,
     "metadata": {},
     "output_type": "execute_result"
    }
   ],
   "source": [
    "#Linear Regression\n",
    "from sklearn.model_selection import train_test_split \n",
    "from sklearn.linear_model import LinearRegression\n",
    "from sklearn import datasets\n",
    "db = datasets.load_iris()\n",
    "lr = LinearRegression()\n",
    "x_train, x_test, y_train, y_test= train_test_split(db.data, db.target, test_size= 0.3,random_state=0)\n",
    "lr.fit(x_train,y_train)\n",
    "lr.score(x_test, y_test)"
   ]
  },
  {
   "cell_type": "code",
   "execution_count": 2,
   "id": "96e812bc",
   "metadata": {},
   "outputs": [
    {
     "data": {
      "text/plain": [
       "0.7318931971474496"
      ]
     },
     "execution_count": 2,
     "metadata": {},
     "output_type": "execute_result"
    }
   ],
   "source": [
    "#Linear Regression with breast cancer\n",
    "from sklearn.model_selection import train_test_split \n",
    "from sklearn.linear_model import LinearRegression\n",
    "from sklearn import datasets\n",
    "\n",
    "db=datasets.load_breast_cancer()\n",
    "x_train, x_test, y_train, y_test= train_test_split(db.data, db.target, test_size= 0.3,random_state=0)\n",
    "regressor= LinearRegression() \n",
    "regressor.fit(x_train,y_train)\n",
    "regressor.score(x_test,y_test)"
   ]
  },
  {
   "cell_type": "code",
   "execution_count": null,
   "id": "05affaf6",
   "metadata": {},
   "outputs": [],
   "source": []
  }
 ],
 "metadata": {
  "kernelspec": {
   "display_name": "Python 3",
   "language": "python",
   "name": "python3"
  },
  "language_info": {
   "codemirror_mode": {
    "name": "ipython",
    "version": 3
   },
   "file_extension": ".py",
   "mimetype": "text/x-python",
   "name": "python",
   "nbconvert_exporter": "python",
   "pygments_lexer": "ipython3",
   "version": "3.8.8"
  }
 },
 "nbformat": 4,
 "nbformat_minor": 5
}
